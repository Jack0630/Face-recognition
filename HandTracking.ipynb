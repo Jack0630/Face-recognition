{
 "cells": [
  {
   "cell_type": "code",
   "execution_count": null,
   "metadata": {},
   "outputs": [],
   "source": [
    "#videocapture\n",
    "#https://www.youtube.com/watch?v=BfonqyiIv3k\n",
    "\n",
    "#HandTracking\n",
    "#https://www.youtube.com/watch?v=01sAkU_NvOY"
   ]
  },
  {
   "cell_type": "code",
   "execution_count": 1,
   "metadata": {},
   "outputs": [
    {
     "name": "stdout",
     "output_type": "stream",
     "text": [
      "Requirement already satisfied: OpenCV-python in c:\\users\\user\\anaconda3\\envs\\tf2-py37\\lib\\site-packages (4.5.3.56)\n",
      "Requirement already satisfied: numpy>=1.14.5 in c:\\users\\user\\anaconda3\\envs\\tf2-py37\\lib\\site-packages (from OpenCV-python) (1.17.0)\n",
      "Collecting Mediapipe\n",
      "  Using cached mediapipe-0.8.6-cp37-cp37m-win_amd64.whl (48.1 MB)\n",
      "Requirement already satisfied: protobuf>=3.11.4 in c:\\users\\user\\anaconda3\\envs\\tf2-py37\\lib\\site-packages (from Mediapipe) (3.13.0)\n",
      "Requirement already satisfied: absl-py in c:\\users\\user\\anaconda3\\envs\\tf2-py37\\lib\\site-packages (from Mediapipe) (0.11.0)\n",
      "Requirement already satisfied: wheel in c:\\users\\user\\anaconda3\\envs\\tf2-py37\\lib\\site-packages (from Mediapipe) (0.35.1)\n",
      "Collecting opencv-contrib-python\n",
      "  Using cached opencv_contrib_python-4.5.3.56-cp37-cp37m-win_amd64.whl (41.8 MB)\n",
      "Requirement already satisfied: matplotlib in c:\\users\\user\\anaconda3\\envs\\tf2-py37\\lib\\site-packages (from Mediapipe) (3.3.2)\n",
      "Requirement already satisfied: attrs>=19.1.0 in c:\\users\\user\\anaconda3\\envs\\tf2-py37\\lib\\site-packages (from Mediapipe) (20.3.0)\n",
      "Requirement already satisfied: numpy in c:\\users\\user\\anaconda3\\envs\\tf2-py37\\lib\\site-packages (from Mediapipe) (1.17.0)\n",
      "Requirement already satisfied: six in c:\\users\\user\\anaconda3\\envs\\tf2-py37\\lib\\site-packages (from Mediapipe) (1.15.0)\n",
      "Requirement already satisfied: setuptools in c:\\users\\user\\anaconda3\\envs\\tf2-py37\\lib\\site-packages (from protobuf>=3.11.4->Mediapipe) (50.3.1.post20201107)\n",
      "Requirement already satisfied: kiwisolver>=1.0.1 in c:\\users\\user\\anaconda3\\envs\\tf2-py37\\lib\\site-packages (from matplotlib->Mediapipe) (1.3.0)\n",
      "Requirement already satisfied: pillow>=6.2.0 in c:\\users\\user\\anaconda3\\envs\\tf2-py37\\lib\\site-packages (from matplotlib->Mediapipe) (8.0.1)\n",
      "Requirement already satisfied: pyparsing!=2.0.4,!=2.1.2,!=2.1.6,>=2.0.3 in c:\\users\\user\\anaconda3\\envs\\tf2-py37\\lib\\site-packages (from matplotlib->Mediapipe) (2.4.7)\n",
      "Requirement already satisfied: certifi>=2020.06.20 in c:\\users\\user\\anaconda3\\envs\\tf2-py37\\lib\\site-packages (from matplotlib->Mediapipe) (2020.6.20)\n",
      "Requirement already satisfied: python-dateutil>=2.1 in c:\\users\\user\\anaconda3\\envs\\tf2-py37\\lib\\site-packages (from matplotlib->Mediapipe) (2.8.1)\n",
      "Requirement already satisfied: cycler>=0.10 in c:\\users\\user\\anaconda3\\envs\\tf2-py37\\lib\\site-packages (from matplotlib->Mediapipe) (0.10.0)\n",
      "Installing collected packages: opencv-contrib-python, Mediapipe\n",
      "Successfully installed Mediapipe-0.8.6 opencv-contrib-python-4.5.3.56\n"
     ]
    }
   ],
   "source": [
    "!pip install OpenCV-python\n",
    "!pip install Mediapipe"
   ]
  },
  {
   "cell_type": "code",
   "execution_count": 2,
   "metadata": {},
   "outputs": [],
   "source": [
    "import cv2\n",
    "import mediapipe as mp\n",
    "import time"
   ]
  },
  {
   "cell_type": "code",
   "execution_count": 11,
   "metadata": {},
   "outputs": [
    {
     "ename": "KeyboardInterrupt",
     "evalue": "",
     "output_type": "error",
     "traceback": [
      "\u001b[1;31m---------------------------------------------------------------------------\u001b[0m",
      "\u001b[1;31mKeyboardInterrupt\u001b[0m                         Traceback (most recent call last)",
      "\u001b[1;32m<ipython-input-11-a295a66f9627>\u001b[0m in \u001b[0;36m<module>\u001b[1;34m\u001b[0m\n\u001b[0;32m      2\u001b[0m \u001b[1;33m\u001b[0m\u001b[0m\n\u001b[0;32m      3\u001b[0m \u001b[1;32mwhile\u001b[0m \u001b[1;32mTrue\u001b[0m\u001b[1;33m:\u001b[0m\u001b[1;33m\u001b[0m\u001b[1;33m\u001b[0m\u001b[0m\n\u001b[1;32m----> 4\u001b[1;33m     \u001b[0msuccess\u001b[0m\u001b[1;33m,\u001b[0m \u001b[0mimg\u001b[0m\u001b[1;33m=\u001b[0m\u001b[0mcap\u001b[0m\u001b[1;33m.\u001b[0m\u001b[0mread\u001b[0m\u001b[1;33m(\u001b[0m \u001b[1;33m)\u001b[0m\u001b[1;33m\u001b[0m\u001b[1;33m\u001b[0m\u001b[0m\n\u001b[0m\u001b[0;32m      5\u001b[0m     \u001b[0mcv2\u001b[0m\u001b[1;33m.\u001b[0m\u001b[0mimshow\u001b[0m\u001b[1;33m(\u001b[0m\u001b[1;34m\"Image\"\u001b[0m\u001b[1;33m,\u001b[0m \u001b[0mimg\u001b[0m\u001b[1;33m)\u001b[0m\u001b[1;33m\u001b[0m\u001b[1;33m\u001b[0m\u001b[0m\n\u001b[0;32m      6\u001b[0m     \u001b[0mcv2\u001b[0m\u001b[1;33m.\u001b[0m\u001b[0mwaitKey\u001b[0m\u001b[1;33m(\u001b[0m\u001b[1;36m1\u001b[0m\u001b[1;33m)\u001b[0m\u001b[1;33m\u001b[0m\u001b[1;33m\u001b[0m\u001b[0m\n",
      "\u001b[1;31mKeyboardInterrupt\u001b[0m: "
     ]
    }
   ],
   "source": [
    "cap = cv2.VideoCapture(0) #0是使用筆電內建螢幕 #1是外接螢幕\n",
    "\n",
    "while True:\n",
    "    success, img=cap.read( )\n",
    "    cv2.imshow(\"Image\", img)\n",
    "    cv2.waitKey(1)\n",
    "    \n",
    "    "
   ]
  },
  {
   "cell_type": "code",
   "execution_count": 5,
   "metadata": {},
   "outputs": [
    {
     "name": "stdout",
     "output_type": "stream",
     "text": [
      "Help on built-in function waitKey:\n",
      "\n",
      "waitKey(...)\n",
      "    waitKey([, delay]) -> retval\n",
      "    .   @brief Waits for a pressed key.\n",
      "    .   \n",
      "    .   The function waitKey waits for a key event infinitely (when \\f$\\texttt{delay}\\leq 0\\f$ ) or for delay\n",
      "    .   milliseconds, when it is positive. Since the OS has a minimum time between switching threads, the\n",
      "    .   function will not wait exactly delay ms, it will wait at least delay ms, depending on what else is\n",
      "    .   running on your computer at that time. It returns the code of the pressed key or -1 if no key was\n",
      "    .   pressed before the specified time had elapsed. To check for a key press but not wait for it, use\n",
      "    .   #pollKey.\n",
      "    .   \n",
      "    .   @note The functions #waitKey and #pollKey are the only methods in HighGUI that can fetch and handle\n",
      "    .   GUI events, so one of them needs to be called periodically for normal event processing unless\n",
      "    .   HighGUI is used within an environment that takes care of event processing.\n",
      "    .   \n",
      "    .   @note The function only works if there is at least one HighGUI window created and the window is\n",
      "    .   active. If there are several HighGUI windows, any of them can be active.\n",
      "    .   \n",
      "    .   @param delay Delay in milliseconds. 0 is the special value that means \"forever\".\n",
      "\n"
     ]
    }
   ],
   "source": [
    "help(cv2.waitKey)"
   ]
  },
  {
   "cell_type": "code",
   "execution_count": null,
   "metadata": {},
   "outputs": [],
   "source": []
  },
  {
   "cell_type": "code",
   "execution_count": null,
   "metadata": {},
   "outputs": [],
   "source": []
  },
  {
   "cell_type": "code",
   "execution_count": null,
   "metadata": {},
   "outputs": [],
   "source": []
  }
 ],
 "metadata": {
  "kernelspec": {
   "display_name": "Python 3",
   "language": "python",
   "name": "python3"
  },
  "language_info": {
   "codemirror_mode": {
    "name": "ipython",
    "version": 3
   },
   "file_extension": ".py",
   "mimetype": "text/x-python",
   "name": "python",
   "nbconvert_exporter": "python",
   "pygments_lexer": "ipython3",
   "version": "3.7.9"
  }
 },
 "nbformat": 4,
 "nbformat_minor": 4
}
